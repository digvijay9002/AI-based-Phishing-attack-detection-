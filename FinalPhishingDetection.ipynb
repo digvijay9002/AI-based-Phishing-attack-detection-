{
  "nbformat": 4,
  "nbformat_minor": 0,
  "metadata": {
    "colab": {
      "provenance": []
    },
    "kernelspec": {
      "name": "python3",
      "display_name": "Python 3"
    },
    "language_info": {
      "name": "python"
    }
  },
  "cells": [
    {
      "cell_type": "code",
      "source": [
        "# This Python 3 environment comes with many helpful analytics libraries installed\n",
        "# It is defined by the kaggle/python Docker image: https://github.com/kaggle/docker-python\n",
        "# For example, here's several helpful packages to load\n",
        "\n",
        "import numpy as np # linear algebra\n",
        "import pandas as pd # data processing, CSV file I/O (e.g. pd.read_csv)\n",
        "\n",
        "# Input data files are available in the read-only \"../input/\" directory\n",
        "# For example, running this (by clicking run or pressing Shift+Enter) will list all files under the input directory\n"
      ],
      "metadata": {
        "id": "Lc-oXEz2BRzp"
      },
      "execution_count": 4,
      "outputs": []
    },
    {
      "cell_type": "code",
      "source": [
        "r = pd.read_csv('dataset_phishing.csv')\n",
        "print(r)"
      ],
      "metadata": {
        "colab": {
          "base_uri": "https://localhost:8080/"
        },
        "id": "rWlHlozeBp4V",
        "outputId": "c7138830-d09e-4e5b-b673-047bdcdc3ee2"
      },
      "execution_count": 6,
      "outputs": [
        {
          "output_type": "stream",
          "name": "stdout",
          "text": [
            "                                                     url  length_url  \\\n",
            "0                  http://www.crestonwood.com/router.php          37   \n",
            "1      http://shadetreetechnology.com/V4/validation/a...          77   \n",
            "2      https://support-appleld.com.secureupdate.duila...         126   \n",
            "3                                     http://rgipt.ac.in          18   \n",
            "4      http://www.iracing.com/tracks/gateway-motorspo...          55   \n",
            "...                                                  ...         ...   \n",
            "11425      http://www.fontspace.com/category/blackletter          45   \n",
            "11426  http://www.budgetbots.com/server.php/Server%20...          84   \n",
            "11427  https://www.facebook.com/Interactive-Televisio...         105   \n",
            "11428             http://www.mypublicdomainpictures.com/          38   \n",
            "11429  http://174.139.46.123/ap/signin?openid.pape.ma...         477   \n",
            "\n",
            "       length_hostname  ip  nb_dots  nb_hyphens  nb_at  nb_qm  nb_and  nb_or  \\\n",
            "0                   19   0        3           0      0      0       0      0   \n",
            "1                   23   1        1           0      0      0       0      0   \n",
            "2                   50   1        4           1      0      1       2      0   \n",
            "3                   11   0        2           0      0      0       0      0   \n",
            "4                   15   0        2           2      0      0       0      0   \n",
            "...                ...  ..      ...         ...    ...    ...     ...    ...   \n",
            "11425               17   0        2           0      0      0       0      0   \n",
            "11426               18   0        5           0      1      1       0      0   \n",
            "11427               16   1        2           6      0      1       0      0   \n",
            "11428               30   0        2           0      0      0       0      0   \n",
            "11429               14   1       24           0      1      1       9      0   \n",
            "\n",
            "       ...  domain_in_title  domain_with_copyright  whois_registered_domain  \\\n",
            "0      ...                0                      1                        0   \n",
            "1      ...                1                      0                        0   \n",
            "2      ...                1                      0                        0   \n",
            "3      ...                1                      0                        0   \n",
            "4      ...                0                      1                        0   \n",
            "...    ...              ...                    ...                      ...   \n",
            "11425  ...                0                      0                        0   \n",
            "11426  ...                1                      0                        0   \n",
            "11427  ...                0                      0                        0   \n",
            "11428  ...                1                      0                        0   \n",
            "11429  ...                1                      1                        1   \n",
            "\n",
            "       domain_registration_length  domain_age  web_traffic  dns_record  \\\n",
            "0                              45          -1            0           1   \n",
            "1                              77        5767            0           0   \n",
            "2                              14        4004      5828815           0   \n",
            "3                              62          -1       107721           0   \n",
            "4                             224        8175         8725           0   \n",
            "...                           ...         ...          ...         ...   \n",
            "11425                         448        5396         3980           0   \n",
            "11426                         211        6728            0           0   \n",
            "11427                        2809        8515            8           0   \n",
            "11428                          85        2836      2455493           0   \n",
            "11429                           0          -1            0           1   \n",
            "\n",
            "       google_index  page_rank      status  \n",
            "0                 1          4  legitimate  \n",
            "1                 1          2    phishing  \n",
            "2                 1          0    phishing  \n",
            "3                 0          3  legitimate  \n",
            "4                 0          6  legitimate  \n",
            "...             ...        ...         ...  \n",
            "11425             0          6  legitimate  \n",
            "11426             1          0    phishing  \n",
            "11427             1         10  legitimate  \n",
            "11428             0          4  legitimate  \n",
            "11429             1          0    phishing  \n",
            "\n",
            "[11430 rows x 89 columns]\n"
          ]
        }
      ]
    },
    {
      "cell_type": "code",
      "source": [
        "import pandas as pd\n",
        "\n",
        "from sklearn.compose import ColumnTransformer\n",
        "from sklearn.pipeline import Pipeline\n",
        "from sklearn.impute import SimpleImputer\n",
        "from sklearn.preprocessing import OneHotEncoder\n",
        "from sklearn.ensemble import RandomForestRegressor\n",
        "from sklearn.ensemble import RandomForestClassifier\n",
        "from sklearn.metrics import mean_absolute_error\n",
        "from sklearn.metrics import balanced_accuracy_score\n",
        "from xgboost import XGBRegressor\n",
        "# import numpy as np\n",
        "import matplotlib.pyplot as plt\n",
        "from sklearn.linear_model import LogisticRegression"
      ],
      "metadata": {
        "id": "bMbbFq5WCQoe"
      },
      "execution_count": 7,
      "outputs": []
    },
    {
      "cell_type": "code",
      "source": [
        "r.columns"
      ],
      "metadata": {
        "id": "oYeiqyZFCWns",
        "outputId": "04939da2-87e5-48f9-be04-72e5a6b4abc2",
        "colab": {
          "base_uri": "https://localhost:8080/"
        }
      },
      "execution_count": 8,
      "outputs": [
        {
          "output_type": "execute_result",
          "data": {
            "text/plain": [
              "Index(['url', 'length_url', 'length_hostname', 'ip', 'nb_dots', 'nb_hyphens',\n",
              "       'nb_at', 'nb_qm', 'nb_and', 'nb_or', 'nb_eq', 'nb_underscore',\n",
              "       'nb_tilde', 'nb_percent', 'nb_slash', 'nb_star', 'nb_colon', 'nb_comma',\n",
              "       'nb_semicolumn', 'nb_dollar', 'nb_space', 'nb_www', 'nb_com',\n",
              "       'nb_dslash', 'http_in_path', 'https_token', 'ratio_digits_url',\n",
              "       'ratio_digits_host', 'punycode', 'port', 'tld_in_path',\n",
              "       'tld_in_subdomain', 'abnormal_subdomain', 'nb_subdomains',\n",
              "       'prefix_suffix', 'random_domain', 'shortening_service',\n",
              "       'path_extension', 'nb_redirection', 'nb_external_redirection',\n",
              "       'length_words_raw', 'char_repeat', 'shortest_words_raw',\n",
              "       'shortest_word_host', 'shortest_word_path', 'longest_words_raw',\n",
              "       'longest_word_host', 'longest_word_path', 'avg_words_raw',\n",
              "       'avg_word_host', 'avg_word_path', 'phish_hints', 'domain_in_brand',\n",
              "       'brand_in_subdomain', 'brand_in_path', 'suspecious_tld',\n",
              "       'statistical_report', 'nb_hyperlinks', 'ratio_intHyperlinks',\n",
              "       'ratio_extHyperlinks', 'ratio_nullHyperlinks', 'nb_extCSS',\n",
              "       'ratio_intRedirection', 'ratio_extRedirection', 'ratio_intErrors',\n",
              "       'ratio_extErrors', 'login_form', 'external_favicon', 'links_in_tags',\n",
              "       'submit_email', 'ratio_intMedia', 'ratio_extMedia', 'sfh', 'iframe',\n",
              "       'popup_window', 'safe_anchor', 'onmouseover', 'right_clic',\n",
              "       'empty_title', 'domain_in_title', 'domain_with_copyright',\n",
              "       'whois_registered_domain', 'domain_registration_length', 'domain_age',\n",
              "       'web_traffic', 'dns_record', 'google_index', 'page_rank', 'status'],\n",
              "      dtype='object')"
            ]
          },
          "metadata": {},
          "execution_count": 8
        }
      ]
    },
    {
      "cell_type": "code",
      "source": [
        "from sklearn.model_selection import train_test_split\n",
        "\n",
        "\n",
        "y = r.status\n",
        "X = r.drop(['status'], axis=1)\n",
        "\n",
        "\n",
        "X_train_full, X_valid_full, y_train, y_valid = train_test_split(X, y, train_size=0.8, test_size=0.2,\n",
        "                                                                random_state=0)\n",
        "\n",
        "\n",
        "categorical_cols = [cname for cname in X_train_full.columns if X_train_full[cname].nunique() < 10 and \n",
        "                        X_train_full[cname].dtype == \"object\"]\n",
        "\n",
        "\n",
        "numerical_cols = [cname for cname in X_train_full.columns if X_train_full[cname].dtype in ['int64', 'float64']]\n",
        "\n",
        "\n",
        "my_cols = categorical_cols + numerical_cols\n",
        "X_train = X_train_full[my_cols].copy()\n",
        "X_valid = X_valid_full[my_cols].copy()"
      ],
      "metadata": {
        "id": "z_PLNh1NCZ-X"
      },
      "execution_count": 9,
      "outputs": []
    },
    {
      "cell_type": "code",
      "source": [
        "numerical_transformer = SimpleImputer(strategy='constant')\n",
        "\n",
        "\n",
        "categorical_transformer = Pipeline(steps=[\n",
        "    ('imputer', SimpleImputer(strategy='most_frequent')),\n",
        "    ('onehot', OneHotEncoder(handle_unknown='ignore'))\n",
        "])\n",
        "\n",
        "\n",
        "preprocessor = ColumnTransformer(\n",
        "    transformers=[\n",
        "        ('num', numerical_transformer, numerical_cols),\n",
        "        ('cat', categorical_transformer, categorical_cols)\n",
        "    ])"
      ],
      "metadata": {
        "id": "9PMEE6RcCdA2"
      },
      "execution_count": 10,
      "outputs": []
    },
    {
      "cell_type": "code",
      "source": [
        "# print(r.describe)"
      ],
      "metadata": {
        "id": "A5K1hE_QCgbu"
      },
      "execution_count": 11,
      "outputs": []
    },
    {
      "cell_type": "code",
      "source": [
        "from sklearn.preprocessing import LabelEncoder\n",
        "le = LabelEncoder()\n",
        "y_train = le.fit_transform(y_train)"
      ],
      "metadata": {
        "id": "JohCYFxNChBt"
      },
      "execution_count": 12,
      "outputs": []
    },
    {
      "cell_type": "code",
      "source": [
        "y_valid = le.fit_transform(y_valid)"
      ],
      "metadata": {
        "id": "PpMbnPXVCmws"
      },
      "execution_count": 13,
      "outputs": []
    },
    {
      "cell_type": "code",
      "source": [
        "# print(y_train)"
      ],
      "metadata": {
        "id": "RnoUoTeKCogB"
      },
      "execution_count": 14,
      "outputs": []
    },
    {
      "cell_type": "code",
      "source": [
        "import xgboost as xgb\n",
        "from sklearn.metrics import accuracy_score"
      ],
      "metadata": {
        "id": "W_4iWIZkCpt8"
      },
      "execution_count": 15,
      "outputs": []
    },
    {
      "cell_type": "code",
      "source": [
        "model = xgb.XGBClassifier()\n",
        "  \n",
        "my_pipeline = Pipeline(steps=[('preprocessor', preprocessor),\n",
        "                              ('model', model)\n",
        "                             ])\n",
        "\n",
        "  \n",
        "my_pipeline.fit(X_train, y_train)\n",
        "\n",
        " \n",
        "preds = my_pipeline.predict(X_valid)\n",
        "print(accuracy_score(preds,y_valid))"
      ],
      "metadata": {
        "id": "WK2kLnEZCrRs",
        "outputId": "41aa0c9b-3ebc-42e2-e851-3f8f7a709424",
        "colab": {
          "base_uri": "https://localhost:8080/"
        }
      },
      "execution_count": 16,
      "outputs": [
        {
          "output_type": "stream",
          "name": "stdout",
          "text": [
            "0.9746281714785652\n"
          ]
        }
      ]
    },
    {
      "cell_type": "code",
      "source": [
        "import joblib"
      ],
      "metadata": {
        "id": "OAlAzCjLCtAd"
      },
      "execution_count": 18,
      "outputs": []
    },
    {
      "cell_type": "code",
      "source": [
        "filename = 'finalized.sav'\n",
        "joblib.dump(model, filename)"
      ],
      "metadata": {
        "id": "1YtQQoptDDGO",
        "outputId": "188c534a-67d7-4856-e7d6-33b4ff930439",
        "colab": {
          "base_uri": "https://localhost:8080/"
        }
      },
      "execution_count": 19,
      "outputs": [
        {
          "output_type": "execute_result",
          "data": {
            "text/plain": [
              "['finalized.sav']"
            ]
          },
          "metadata": {},
          "execution_count": 19
        }
      ]
    },
    {
      "cell_type": "code",
      "source": [
        "model = joblib.load('finalized.sav')"
      ],
      "metadata": {
        "id": "khjWFS-yDQ42"
      },
      "execution_count": 21,
      "outputs": []
    },
    {
      "cell_type": "code",
      "source": [
        "!pip install tldextract\n",
        "import tldextract"
      ],
      "metadata": {
        "id": "JxHsr-e1EHZ1",
        "outputId": "e6fd5b61-d17c-4af2-d23c-c34c34176a8d",
        "colab": {
          "base_uri": "https://localhost:8080/"
        }
      },
      "execution_count": 26,
      "outputs": [
        {
          "output_type": "stream",
          "name": "stdout",
          "text": [
            "Looking in indexes: https://pypi.org/simple, https://us-python.pkg.dev/colab-wheels/public/simple/\n",
            "Collecting tldextract\n",
            "  Downloading tldextract-3.4.1-py3-none-any.whl (92 kB)\n",
            "\u001b[2K     \u001b[90m━━━━━━━━━━━━━━━━━━━━━━━━━━━━━━━━━━━━━━━━\u001b[0m \u001b[32m92.9/92.9 kB\u001b[0m \u001b[31m3.3 MB/s\u001b[0m eta \u001b[36m0:00:00\u001b[0m\n",
            "\u001b[?25hRequirement already satisfied: filelock>=3.0.8 in /usr/local/lib/python3.10/dist-packages (from tldextract) (3.12.0)\n",
            "Requirement already satisfied: requests>=2.1.0 in /usr/local/lib/python3.10/dist-packages (from tldextract) (2.27.1)\n",
            "Requirement already satisfied: idna in /usr/local/lib/python3.10/dist-packages (from tldextract) (3.4)\n",
            "Collecting requests-file>=1.4\n",
            "  Downloading requests_file-1.5.1-py2.py3-none-any.whl (3.7 kB)\n",
            "Requirement already satisfied: urllib3<1.27,>=1.21.1 in /usr/local/lib/python3.10/dist-packages (from requests>=2.1.0->tldextract) (1.26.15)\n",
            "Requirement already satisfied: charset-normalizer~=2.0.0 in /usr/local/lib/python3.10/dist-packages (from requests>=2.1.0->tldextract) (2.0.12)\n",
            "Requirement already satisfied: certifi>=2017.4.17 in /usr/local/lib/python3.10/dist-packages (from requests>=2.1.0->tldextract) (2022.12.7)\n",
            "Requirement already satisfied: six in /usr/local/lib/python3.10/dist-packages (from requests-file>=1.4->tldextract) (1.16.0)\n",
            "Installing collected packages: requests-file, tldextract\n",
            "Successfully installed requests-file-1.5.1 tldextract-3.4.1\n"
          ]
        }
      ]
    },
    {
      "cell_type": "code",
      "source": [
        "def extract_features(url):\n",
        "    features = []\n",
        "    # Extract domain and subdomain from the URL\n",
        "    domain, subdomain, suffix = tldextract.extract(url)\n",
        "    # Add length of the domain and subdomain\n",
        "    features.append(len(domain))\n",
        "    features.append(len(subdomain))\n",
        "    # Add number of dots in the URL\n",
        "    features.append(url.count('.'))\n",
        "    # Add number of hyphens in the URL\n",
        "    features.append(url.count('-'))\n",
        "    return features"
      ],
      "metadata": {
        "id": "jH6AicTvECfk"
      },
      "execution_count": 27,
      "outputs": []
    },
    {
      "cell_type": "code",
      "source": [
        "# Use the model to predict whether a new URL is a phishing website or not\n",
        "url = input(\"Enter any URL: \") #'https://facebook.com'\n",
        "features = extract_features(url)\n",
        "prediction = model.predict([features])\n",
        "if prediction == 1:\n",
        "    print('The website', url, 'is a phishing website.')\n",
        "else:\n",
        "    print('The website', url, 'is not a phishing website.')"
      ],
      "metadata": {
        "id": "Jb_EGT9VD4gt",
        "outputId": "b837b498-9c56-4c12-ce26-13ce5a0553f1",
        "colab": {
          "base_uri": "https://localhost:8080/"
        }
      },
      "execution_count": 32,
      "outputs": [
        {
          "output_type": "stream",
          "name": "stdout",
          "text": [
            "Enter any URL: https://www.riotgames.com/en\n",
            "The website https://www.riotgames.com/en is not a phishing website.\n"
          ]
        }
      ]
    }
  ]
}